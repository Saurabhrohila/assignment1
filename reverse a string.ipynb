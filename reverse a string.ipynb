{
 "cells": [
  {
   "cell_type": "markdown",
   "id": "da63e348",
   "metadata": {},
   "source": [
    "# a Python program to reverse a string"
   ]
  },
  {
   "cell_type": "code",
   "execution_count": 1,
   "id": "d88438fe",
   "metadata": {},
   "outputs": [
    {
     "name": "stdout",
     "output_type": "stream",
     "text": [
      "*******************************Start the Program *******************************\n",
      "The original string is : 1234abcd\n",
      "The reversed string is : dcba4321\n",
      "*******************************End of the Program*******************************\n"
     ]
    }
   ],
   "source": [
    "print(\"Start the Program \".center(80,\"*\"))\n",
    "def reverse(string): \n",
    "    string = string[::-1] \n",
    "    return string \n",
    "str= \"1234abcd\"\n",
    "print (\"The original string is : \",end=\"\") \n",
    "print (str) \n",
    "print (\"The reversed string is : \",end=\"\") \n",
    "print (reverse(str)) \n",
    "print(\"End of the Program\".center(80,\"*\"))"
   ]
  },
  {
   "cell_type": "code",
   "execution_count": null,
   "id": "10a931de",
   "metadata": {},
   "outputs": [],
   "source": []
  }
 ],
 "metadata": {
  "kernelspec": {
   "display_name": "Python 3",
   "language": "python",
   "name": "python3"
  },
  "language_info": {
   "codemirror_mode": {
    "name": "ipython",
    "version": 3
   },
   "file_extension": ".py",
   "mimetype": "text/x-python",
   "name": "python",
   "nbconvert_exporter": "python",
   "pygments_lexer": "ipython3",
   "version": "3.8.8"
  }
 },
 "nbformat": 4,
 "nbformat_minor": 5
}
