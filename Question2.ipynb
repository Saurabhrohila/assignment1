{
 "cells": [
  {
   "cell_type": "code",
   "execution_count": 2,
   "id": "dc43e777",
   "metadata": {},
   "outputs": [
    {
     "name": "stdout",
     "output_type": "stream",
     "text": [
      "adoyde\n"
     ]
    }
   ],
   "source": [
    "A=\"edyoda\"\n",
    "print(A[-1:-7:-1])\n"
   ]
  },
  {
   "cell_type": "code",
   "execution_count": null,
   "id": "520d696b",
   "metadata": {},
   "outputs": [],
   "source": []
  }
 ],
 "metadata": {
  "kernelspec": {
   "display_name": "Python 3",
   "language": "python",
   "name": "python3"
  },
  "language_info": {
   "codemirror_mode": {
    "name": "ipython",
    "version": 3
   },
   "file_extension": ".py",
   "mimetype": "text/x-python",
   "name": "python",
   "nbconvert_exporter": "python",
   "pygments_lexer": "ipython3",
   "version": "3.8.8"
  }
 },
 "nbformat": 4,
 "nbformat_minor": 5
}
