{
 "cells": [
  {
   "cell_type": "markdown",
   "id": "df8980a8",
   "metadata": {},
   "source": [
    "# Q1. Write a program to find all pairs of an integer array whose sum is equal to a given number?"
   ]
  },
  {
   "cell_type": "code",
   "execution_count": 1,
   "id": "0ca11eb0",
   "metadata": {},
   "outputs": [
    {
     "name": "stdout",
     "output_type": "stream",
     "text": [
      "values of pairs are 1 & 7\n",
      "values of pairs are 3 & 5\n"
     ]
    }
   ],
   "source": [
    "def twosum(arr,sum1):\n",
    "    arr.sort()\n",
    "    left=0\n",
    "    right=len(arr)-1\n",
    "    while(left<right):\n",
    "        if (arr[left]+arr[right]>sum1):\n",
    "            right-=1\n",
    "        elif (arr[left]+arr[right]<sum1):\n",
    "            left+=1\n",
    "        elif (arr[left]+arr[right]==sum1):\n",
    "            print(\"values of pairs are\",arr[left],\"&\",arr[right])\n",
    "            right-=1\n",
    "            left+=1\n",
    "arr=[1,2,3,5,7,4] \n",
    "sum1=8\n",
    "twosum(arr,sum1)\n",
    "        \n",
    "    \n",
    "    \n",
    "  "
   ]
  },
  {
   "cell_type": "markdown",
   "id": "6a57d93d",
   "metadata": {},
   "source": [
    "# Q2Write a program to reverse an array in place? In place means you cannot create a new array. You have to update the original array."
   ]
  },
  {
   "cell_type": "code",
   "execution_count": 2,
   "id": "f4874460",
   "metadata": {},
   "outputs": [
    {
     "name": "stdout",
     "output_type": "stream",
     "text": [
      "[56, 0, 9, 97899, 896, 1]\n"
     ]
    }
   ],
   "source": [
    "def reversearray(arr):\n",
    "    start=0\n",
    "    end=len(arr)-1\n",
    "    while end>start:\n",
    "        arr[end],arr[start]=arr[start],arr[end]\n",
    "        start+=1\n",
    "        end-=1\n",
    "arr = [1,896,97899,9,0,56]  \n",
    "reversearray(arr)\n",
    "print(arr)"
   ]
  },
  {
   "cell_type": "markdown",
   "id": "9749521a",
   "metadata": {},
   "source": [
    "# Q3 Write a program to check if two strings are a rotation of each other?"
   ]
  },
  {
   "cell_type": "code",
   "execution_count": 3,
   "id": "20b11ec4",
   "metadata": {},
   "outputs": [
    {
     "name": "stdout",
     "output_type": "stream",
     "text": [
      "NO rotation\n"
     ]
    }
   ],
   "source": [
    "def checkstringrotation(str1,str2):\n",
    "    l=len(str1)\n",
    "    s=str1+str2\n",
    "    if (len(str1)==len(str2)):\n",
    "        if str2 in s:\n",
    "           print(str1 ,\"is matching with\",str2)\n",
    "        else:\n",
    "             print(\"No rotation\")\n",
    "    else:\n",
    "        print(\"NO rotation\")\n",
    "str1=\"Askay\"\n",
    "str2=\"NAU\"\n",
    "checkstringrotation(str1,str2)        "
   ]
  },
  {
   "cell_type": "markdown",
   "id": "29e895cd",
   "metadata": {},
   "source": [
    "# Q4Write a program to print the first non-repeated character from a string?"
   ]
  },
  {
   "cell_type": "code",
   "execution_count": 4,
   "id": "d6dabfe7",
   "metadata": {},
   "outputs": [
    {
     "name": "stdout",
     "output_type": "stream",
     "text": [
      "s\n"
     ]
    }
   ],
   "source": [
    "def firstnonrepeatingchr(str1):\n",
    "    dict1={}\n",
    "    size=len(str1)\n",
    "    for i in range(len(str1)):\n",
    "        key=str1[i]\n",
    "        if key not in dict1:\n",
    "            dict1[key]=1\n",
    "        else:\n",
    "            dict1[key]=dict1[key]+1\n",
    "    for key,value in dict1.items():\n",
    "        if (value==1):\n",
    "            print(key)\n",
    "            break\n",
    "firstnonrepeatingchr(\"aakksyy\")\n"
   ]
  },
  {
   "cell_type": "markdown",
   "id": "4af8b20c",
   "metadata": {},
   "source": [
    "# Q9. Write a program to reverse a stack."
   ]
  },
  {
   "cell_type": "code",
   "execution_count": 2,
   "id": "867bfdec",
   "metadata": {},
   "outputs": [
    {
     "name": "stdout",
     "output_type": "stream",
     "text": [
      "Please enter the elements to push: 4 6 7 8\n",
      "The stack:\n",
      "8\n",
      "7\n",
      "6\n",
      "4\n",
      "After reversing:\n",
      "4\n",
      "6\n",
      "7\n",
      "8\n"
     ]
    }
   ],
   "source": [
    "class Stack:\n",
    "    def __init__(self):\n",
    "        self.items = []\n",
    " \n",
    "    def is_empty(self):\n",
    "        return self.items == []\n",
    " \n",
    "    def push(self, data):\n",
    "        self.items.append(data)\n",
    " \n",
    "    def pop(self):\n",
    "        return self.items.pop()\n",
    " \n",
    "    def display(self):\n",
    "        for data in reversed(self.items):\n",
    "            print(data)\n",
    " \n",
    "def insert_at_bottom(s, data):\n",
    "    if s.is_empty():\n",
    "        s.push(data)\n",
    "    else:\n",
    "        popped = s.pop()\n",
    "        insert_at_bottom(s, data)\n",
    "        s.push(popped)\n",
    " \n",
    " \n",
    "def reverse_stack(s):\n",
    "    if not s.is_empty():\n",
    "        popped = s.pop()\n",
    "        reverse_stack(s)\n",
    "        insert_at_bottom(s, popped)\n",
    " \n",
    " \n",
    "s = Stack()\n",
    "data_list = input('Please enter the elements to push: ').split()\n",
    "for data in data_list:\n",
    "    s.push(int(data))\n",
    " \n",
    "print('The stack:')\n",
    "s.display()\n",
    "reverse_stack(s)\n",
    "print('After reversing:')\n",
    "s.display()\n",
    "                     \n",
    "                                \n",
    " \n",
    "    \n",
    "               \n",
    "    "
   ]
  },
  {
   "cell_type": "markdown",
   "id": "0085e26c",
   "metadata": {},
   "source": [
    "# Q10. Minimum value in stack"
   ]
  },
  {
   "cell_type": "code",
   "execution_count": 3,
   "id": "68c7b6ad",
   "metadata": {},
   "outputs": [],
   "source": [
    "class min_stack():\n",
    "    def __init__(self):\n",
    "        self.main_stack = []\n",
    "        self.help_stack = []\n",
    "        \n",
    "    def push(self, item):\n",
    "        self.main_stack.append(item)\n",
    "        if len(self.help_stack) >= 1:\n",
    "            if self.help_stack[-1] >= item:\n",
    "                self.help_stack.append(item)\n",
    "        else:\n",
    "            self.help_stack.append(item)\n",
    "    \n",
    "    def pop(self):\n",
    "        if len(self.main_stack) >= 1:\n",
    "            popped_value = self.main_stack.pop()\n",
    "            if popped_value == self.help_stack[-1]:\n",
    "                self.help_stack.pop()\n",
    "    \n",
    "    def min(self):\n",
    "        if len(self.help_stack) >= 1:\n",
    "            return self.help_stack[-1]\n",
    "        else:\n",
    "            return None"
   ]
  },
  {
   "cell_type": "code",
   "execution_count": 4,
   "id": "bb82a8d3",
   "metadata": {},
   "outputs": [],
   "source": [
    "obj = min_stack()\n",
    "obj.push(3)"
   ]
  },
  {
   "cell_type": "code",
   "execution_count": 5,
   "id": "251b07e4",
   "metadata": {},
   "outputs": [],
   "source": [
    "obj.push(4)"
   ]
  },
  {
   "cell_type": "code",
   "execution_count": 6,
   "id": "18497e0a",
   "metadata": {},
   "outputs": [],
   "source": [
    "obj.push(5)"
   ]
  },
  {
   "cell_type": "code",
   "execution_count": 7,
   "id": "431cc1e0",
   "metadata": {},
   "outputs": [
    {
     "data": {
      "text/plain": [
       "3"
      ]
     },
     "execution_count": 7,
     "metadata": {},
     "output_type": "execute_result"
    }
   ],
   "source": [
    "obj.min()"
   ]
  },
  {
   "cell_type": "code",
   "execution_count": null,
   "id": "1d03dec8",
   "metadata": {},
   "outputs": [],
   "source": []
  }
 ],
 "metadata": {
  "kernelspec": {
   "display_name": "Python 3",
   "language": "python",
   "name": "python3"
  },
  "language_info": {
   "codemirror_mode": {
    "name": "ipython",
    "version": 3
   },
   "file_extension": ".py",
   "mimetype": "text/x-python",
   "name": "python",
   "nbconvert_exporter": "python",
   "pygments_lexer": "ipython3",
   "version": "3.8.8"
  }
 },
 "nbformat": 4,
 "nbformat_minor": 5
}
