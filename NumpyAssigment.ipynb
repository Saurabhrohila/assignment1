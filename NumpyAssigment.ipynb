{
 "cells": [
  {
   "cell_type": "code",
   "execution_count": 4,
   "id": "d6e81e8c",
   "metadata": {},
   "outputs": [
    {
     "name": "stdout",
     "output_type": "stream",
     "text": [
      "[0. 0. 0. 0. 1. 0. 0. 0. 0. 0.]\n"
     ]
    }
   ],
   "source": [
    "#ques1\n",
    "import numpy as np\n",
    "x=np.zeros(10)\n",
    "x[4]=1\n",
    "print(x)\n"
   ]
  },
  {
   "cell_type": "code",
   "execution_count": 6,
   "id": "4fe67e04",
   "metadata": {},
   "outputs": [
    {
     "name": "stdout",
     "output_type": "stream",
     "text": [
      "[10 11 12 13 14 15 16 17 18 19 20 21 22 23 24 25 26 27 28 29 30 31 32 33\n",
      " 34 35 36 37 38 39 40 41 42 43 44 45 46 47 48]\n"
     ]
    }
   ],
   "source": [
    "#ques2\n",
    "arr=np.arange(10,49)\n",
    "print(arr)"
   ]
  },
  {
   "cell_type": "code",
   "execution_count": 8,
   "id": "01e59119",
   "metadata": {},
   "outputs": [
    {
     "name": "stdout",
     "output_type": "stream",
     "text": [
      "[[0 1 2]\n",
      " [3 4 5]\n",
      " [6 7 8]]\n"
     ]
    }
   ],
   "source": [
    "#ques3\n",
    "import numpy as np\n",
    "x =  np.arange(0, 9).reshape(3,3)\n",
    "print(x)\n"
   ]
  },
  {
   "cell_type": "code",
   "execution_count": 16,
   "id": "e736a099",
   "metadata": {},
   "outputs": [
    {
     "name": "stdout",
     "output_type": "stream",
     "text": [
      "[[ 0 55 80 95 24  1 59 70 75  7]\n",
      " [61 68  3 25 45 50 78 29 31 38]\n",
      " [83 43  9 23 59 74  3 33 63 69]\n",
      " [37 51 32 24 57 35 83 24 65 84]\n",
      " [ 1 46 31 51  3 38 77  8 51 96]\n",
      " [59 92 98 67 13 37 10 93 37  5]\n",
      " [35 41 52 73 46  3 48 63 36 41]\n",
      " [19 29 91 35  0 77 90 31 93 41]\n",
      " [39 35 22 83 55 44 89 74  4 65]\n",
      " [95 71 51 51 47 77 16 22  5 52]]\n",
      "Max of arr: 0\n",
      "Min of arr: 98\n"
     ]
    }
   ],
   "source": [
    "#ques4\n",
    "arr=np.random.randint(100,size=(10,10))\n",
    "print(arr)\n",
    "print('Max of arr:' ,np.min(arr))\n",
    "print('Min of arr:' ,np.max(arr))"
   ]
  },
  {
   "cell_type": "code",
   "execution_count": 20,
   "id": "dc9f7a9b",
   "metadata": {},
   "outputs": [
    {
     "name": "stdout",
     "output_type": "stream",
     "text": [
      "0.5619172861097584\n"
     ]
    }
   ],
   "source": [
    "#ques6\n",
    "y = np.random.random(30)\n",
    "x = y.mean()\n",
    "print(x)"
   ]
  },
  {
   "cell_type": "code",
   "execution_count": 21,
   "id": "dec9fc49",
   "metadata": {},
   "outputs": [
    {
     "name": "stdout",
     "output_type": "stream",
     "text": [
      "(array([0, 1, 4], dtype=int64),)\n"
     ]
    }
   ],
   "source": [
    "#ques4\n",
    "x = np.nonzero([1,2,0,0,4,0])\n",
    "print(x)\n"
   ]
  },
  {
   "cell_type": "code",
   "execution_count": null,
   "id": "f0c4329a",
   "metadata": {},
   "outputs": [],
   "source": []
  }
 ],
 "metadata": {
  "kernelspec": {
   "display_name": "Python 3",
   "language": "python",
   "name": "python3"
  },
  "language_info": {
   "codemirror_mode": {
    "name": "ipython",
    "version": 3
   },
   "file_extension": ".py",
   "mimetype": "text/x-python",
   "name": "python",
   "nbconvert_exporter": "python",
   "pygments_lexer": "ipython3",
   "version": "3.8.8"
  }
 },
 "nbformat": 4,
 "nbformat_minor": 5
}
